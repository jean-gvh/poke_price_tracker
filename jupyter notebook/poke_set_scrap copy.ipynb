{
 "cells": [
  {
   "cell_type": "code",
   "execution_count": 1,
   "metadata": {},
   "outputs": [],
   "source": [
    "# Libraries for Web Scraping\n",
    "from bs4 import BeautifulSoup\n",
    "import requests\n",
    "\n",
    "# Libraries for Data Processing\n",
    "import pandas as pd \n",
    "from unidecode import unidecode\n",
    "from datetime import datetime\n",
    "import time\n",
    "import re"
   ]
  },
  {
   "cell_type": "markdown",
   "metadata": {},
   "source": [
    "# Récupération des données des sets pokémons (Nom du set + cartes associées)"
   ]
  },
  {
   "cell_type": "code",
   "execution_count": 2,
   "metadata": {},
   "outputs": [],
   "source": [
    "pokemon_set_name_list =[\n",
    "    'PAF',\n",
    "    'PAR',\n",
    "    'MEW',\n",
    "    'OBF',\n",
    "    'PAL',\n",
    "    'SVI',\n",
    "    'CRZ',\n",
    "    'SIT',\n",
    "    'LOR',\n",
    "    'PGO',\n",
    "    'ASR',\n",
    "    'BRS',\n",
    "    'FST',\n",
    "    'CEL',\n",
    "    'EVS',\n",
    "    'CRS',\n",
    "    'SWSH5',\n",
    "    'SWSH45',\n",
    "    'SWSH4',\n",
    "    'SWSH35',\n",
    "    'SWSH3',\n",
    "    'SWSH2',\n",
    "    'SWSH1',\n",
    "    'SM12', # Sun & Moon\n",
    "    'SM115',\n",
    "    'SM11',\n",
    "    'SM10',\n",
    "    'SM09',\n",
    "    'SM08',\n",
    "    'SM75',\n",
    "    'SM07',\n",
    "    'SM07',\n",
    "    'SM06',\n",
    "    'SM05',\n",
    "    'SM04',\n",
    "    'SLE',\n",
    "    'SM03',\n",
    "    'SM02',\n",
    "    'SM01',\n",
    "    'EVO',# xY\n",
    "    'STS',\n",
    "    'FAC',\n",
    "    'GNR',\n",
    "    'BKP',\n",
    "    'BKT',\n",
    "    'AOR',\n",
    "    'ROS',\n",
    "    'DCR',\n",
    "    'PRC',\n",
    "    'PHF',\n",
    "    'FFI',\n",
    "    'FLF',\n",
    "    'XY',\n",
    "    'LTR', # noir et blanc\n",
    "    'PLB',\n",
    "    'PLF',\n",
    "    'PLS',\n",
    "    'BCR',\n",
    "    'DRV',\n",
    "    'DRX',\n",
    "    'DEX',\n",
    "    'NXD',\n",
    "    'NVI',\n",
    "    'EPO',\n",
    "    'BLW',\n",
    "    'PRBW', \n",
    "    'CL', # appel des legendes\n",
    "    'TM', # heartgold soulsilver\n",
    "    'UD',\n",
    "    'UL',\n",
    "    'HGSS',\n",
    "    'PRHS',\n",
    "    'AR', # platine\n",
    "    'SV',\n",
    "    'RR',\n",
    "    'PT',\n",
    "    'SF', # diamant et perle\n",
    "    'LA',\n",
    "    'MD',\n",
    "    'GE',\n",
    "    'SW',\n",
    "    'MT',\n",
    "    'DP',\n",
    "    'PRDP',\n",
    "    'PK', # bloc EX\n",
    "    'DF',\n",
    "    'CG',\n",
    "    'HP',\n",
    "    'LM',\n",
    "    'DS',\n",
    "    'UF',\n",
    "    'EM',\n",
    "    'TMTA',\n",
    "    'DX',\n",
    "    'TRR',\n",
    "    'RFVF',\n",
    "    'HL',\n",
    "    'DR',\n",
    "    'SS',\n",
    "    'RS',\n",
    "    'PRNI',\n",
    "    'SK', # wizards\n",
    "    'AQ',\n",
    "    'EX',\n",
    "    'LC',\n",
    "    'N4',\n",
    "    'NR',\n",
    "    'ND',\n",
    "    'NG',\n",
    "    'GC',\n",
    "    'GH',\n",
    "    'TR',\n",
    "    'BS2',\n",
    "    'FO',\n",
    "    'JU',\n",
    "    'BS',\n",
    "    'PRWC'\n",
    "    ]"
   ]
  },
  {
   "cell_type": "code",
   "execution_count": 3,
   "metadata": {},
   "outputs": [
    {
     "data": {
      "text/plain": [
       "117"
      ]
     },
     "execution_count": 3,
     "metadata": {},
     "output_type": "execute_result"
    }
   ],
   "source": [
    "pokemon_set_name_list.__len__()"
   ]
  },
  {
   "cell_type": "code",
   "execution_count": 4,
   "metadata": {},
   "outputs": [],
   "source": [
    "def get_set_name_data(pokemon_set_name_list):\n",
    "    soup_list = []\n",
    "\n",
    "    for set_name in pokemon_set_name_list:\n",
    "        url = f'https://www.pokecardex.com/series/{set_name}'\n",
    "        \n",
    "        # Récupérer le contenu de la page\n",
    "        r = requests.get(url)\n",
    "        if r.status_code == 200:\n",
    "            soup = BeautifulSoup(r.text, 'html.parser')\n",
    "            soup_list.append(soup)\n",
    "        else:\n",
    "            print(f\"La requête pour {set_name} a échoué avec le code d'état {r.status_code}\")\n",
    "\n",
    "    return soup_list"
   ]
  },
  {
   "cell_type": "code",
   "execution_count": 5,
   "metadata": {},
   "outputs": [],
   "source": [
    "def parse(soup_list):\n",
    "    set_data_list = []\n",
    "\n",
    "\n",
    "    for soup in soup_list:\n",
    "        \n",
    "        # Trouver le titre de la série s'il est présent\n",
    "        set_title_tag = soup.find('h5', class_='d-block text-center mb-3')\n",
    "        if set_title_tag:\n",
    "            set_title = set_title_tag.text.strip()\n",
    "\n",
    "            release_date_tag = soup.find('div', class_='d-flex align-items-center mt-2 d-none d-lg-block justify-content-lg-start')\n",
    "            if release_date_tag:\n",
    "                release_date = release_date_tag.text.strip()\n",
    "\n",
    "            cards_count_tag = soup.find('div', class_='d-flex align-items-center mt-2 justify-content-center justify-content-lg-start mb-3 mb-lg-0') \n",
    "            if cards_count_tag:\n",
    "                total_cards_count  = cards_count_tag.text.strip()\n",
    "                total_cards_count = total_cards_count.split()[0]\n",
    "\n",
    "            # Trouver toutes les divisions de carte sur la page\n",
    "            card_divs = soup.find_all('div', class_='serie-details-carte')\n",
    "\n",
    "            # Pour chaque division de carte, extraire le titre de la carte et l'associer à la série\n",
    "            for card_div in card_divs:\n",
    "                card_title = card_div.find('a').get('title')\n",
    "                set_data_list.append({'set_name' : set_title, 'card_title' : card_title,'release_date' : release_date, 'cards_count' : total_cards_count })\n",
    "        else:\n",
    "            print(\"Balise de titre de série non trouvée sur la page.\")\n",
    "\n",
    "    return  set_data_list"
   ]
  },
  {
   "cell_type": "code",
   "execution_count": 6,
   "metadata": {},
   "outputs": [],
   "source": [
    "def output(set_data_list):\n",
    "    cards_df = pd.DataFrame(set_data_list)\n",
    "    cards_df.drop_duplicates(inplace=True)\n",
    "    return cards_df"
   ]
  },
  {
   "cell_type": "code",
   "execution_count": 7,
   "metadata": {},
   "outputs": [],
   "source": [
    "def set_name_scrap(pokemon_set_name_list):\n",
    "    soup = get_set_name_data(pokemon_set_name_list)\n",
    "    soup_list = parse(soup)\n",
    "    cards_df = output(soup_list)\n",
    "    cards_df['card_title'] = cards_df['card_title'].apply(unidecode)\n",
    "    cards_df['card_title'] = cards_df['card_title'].str.lower()\n",
    "    cards_df['card_title'] = cards_df['card_title'].str.replace('/', ' ')\n",
    "    cards_df['card_title'] = cards_df['card_title'].str.replace('-', ' ')\n",
    "    return cards_df"
   ]
  },
  {
   "cell_type": "code",
   "execution_count": 9,
   "metadata": {},
   "outputs": [
    {
     "name": "stdout",
     "output_type": "stream",
     "text": [
      "Balise de titre de série non trouvée sur la page.\n"
     ]
    }
   ],
   "source": [
    "pokemon_set_df = set_name_scrap(pokemon_set_name_list)"
   ]
  },
  {
   "cell_type": "code",
   "execution_count": null,
   "metadata": {},
   "outputs": [],
   "source": [
    "#caractère à modifier"
   ]
  },
  {
   "cell_type": "markdown",
   "metadata": {},
   "source": [
    "# Récupération du nom des Blocs ( Ecarlate et Violet, Epée et Bouclier, etc...)"
   ]
  },
  {
   "cell_type": "code",
   "execution_count": 10,
   "metadata": {},
   "outputs": [],
   "source": [
    "def get_bloc_name_data():\n",
    "    soup_list = []\n",
    "\n",
    "    \n",
    "    url = f'https://www.pokecardex.com/series/'\n",
    "        \n",
    "    # Récupérer le contenu de la page\n",
    "    r = requests.get(url)\n",
    "    if r.status_code == 200:\n",
    "        soup = BeautifulSoup(r.text, 'html.parser')\n",
    "        soup_list.append(soup)\n",
    "    else:\n",
    "        print(f\"La requête pour {set_name} a échoué avec le code d'état {r.status_code}\")\n",
    "\n",
    "    return soup_list"
   ]
  },
  {
   "cell_type": "code",
   "execution_count": 11,
   "metadata": {},
   "outputs": [],
   "source": [
    "def bloc_name_parse(soup_list):\n",
    "    bloc_names_list = []\n",
    "    for soup in soup_list:\n",
    "        \n",
    "        bloc_name_tags = soup.find_all('p', class_='p-0 m-0')\n",
    "        for bloc_tag in bloc_name_tags:\n",
    "            bloc_name = bloc_tag.text.strip()\n",
    "            bloc_names_list.append(bloc_name)\n",
    "    return bloc_names_list"
   ]
  },
  {
   "cell_type": "code",
   "execution_count": 12,
   "metadata": {},
   "outputs": [],
   "source": [
    "def bloc_name_list():\n",
    "    bloc_soup_list = get_bloc_name_data()\n",
    "    bloc_name_list = bloc_name_parse(bloc_soup_list)\n",
    "    \n",
    "    '''# Liste pour stocker les noms de blocs modifiés\n",
    "    modified_bloc_name_list = []\n",
    "    \n",
    "    for bloc_name in bloc_name_list:\n",
    "        # Convertir en minuscules et enlever les accents\n",
    "        modified_bloc_name = unidecode(bloc_name.lower())\n",
    "        modified_bloc_name_list.append(modified_bloc_name)\n",
    "    \n",
    "    modified_bloc_name_list = modified_bloc_name_list[:2]'''\n",
    "        \n",
    "    return bloc_name_list"
   ]
  },
  {
   "cell_type": "code",
   "execution_count": 13,
   "metadata": {},
   "outputs": [],
   "source": [
    "bloc_name_list = bloc_name_list()"
   ]
  },
  {
   "cell_type": "code",
   "execution_count": 17,
   "metadata": {},
   "outputs": [],
   "source": [
    "bloc_name_list = bloc_name_list[:11]"
   ]
  },
  {
   "cell_type": "code",
   "execution_count": 18,
   "metadata": {},
   "outputs": [
    {
     "data": {
      "text/plain": [
       "['Écarlate et Violet',\n",
       " 'Épée et Bouclier',\n",
       " 'Soleil et Lune',\n",
       " 'XY',\n",
       " 'Noir et Blanc',\n",
       " 'Appel des légendes',\n",
       " 'HeartGold SoulSilver',\n",
       " 'Platine',\n",
       " 'Diamant et Perle',\n",
       " 'Ex',\n",
       " 'Wizards']"
      ]
     },
     "execution_count": 18,
     "metadata": {},
     "output_type": "execute_result"
    }
   ],
   "source": [
    "bloc_name_list"
   ]
  },
  {
   "cell_type": "markdown",
   "metadata": {},
   "source": [
    "# Assignation du nom du bloc aux séries correspondantes"
   ]
  },
  {
   "cell_type": "code",
   "execution_count": 84,
   "metadata": {},
   "outputs": [],
   "source": [
    "set_name_list = pokemon_set_df['set_name'].unique()"
   ]
  },
  {
   "cell_type": "markdown",
   "metadata": {},
   "source": [
    "### Création de listes distincetes en fonction des séries"
   ]
  },
  {
   "cell_type": "code",
   "execution_count": 59,
   "metadata": {},
   "outputs": [],
   "source": [
    "SV_set_name_list = set_name_list[:6]\n",
    "EB_set_name_list = set_name_list[6:22]\n",
    "SM_set_name_list = set_name_list[22:37]\n",
    "XY_set_name_list = set_name_list[37:51]\n",
    "NB_set_name_list = set_name_list[51:64]\n",
    "LC_set_name_list = set_name_list[64:65]\n",
    "HGSS_set_name_list = set_name_list[65:70]\n",
    "PLAT_set_name_list = set_name_list[70:74]\n",
    "DP_set_name_list = set_name_list[74:82]\n",
    "EX_set_name_list = set_name_list[82:99]\n",
    "WIZ_set_name_list = set_name_list[99:]\n"
   ]
  },
  {
   "cell_type": "code",
   "execution_count": 60,
   "metadata": {},
   "outputs": [
    {
     "data": {
      "text/plain": [
       "array(['Destinées de Paldea', 'Faille Paradoxe', '151',\n",
       "       'Flammes Obsidiennes', 'Évolutions à Paldea', 'Écarlate et Violet'],\n",
       "      dtype=object)"
      ]
     },
     "execution_count": 60,
     "metadata": {},
     "output_type": "execute_result"
    }
   ],
   "source": [
    "SV_set_name_list"
   ]
  },
  {
   "cell_type": "code",
   "execution_count": 61,
   "metadata": {},
   "outputs": [
    {
     "data": {
      "text/plain": [
       "array(['Zénith Suprême', 'Tempête Argentée', 'Origine Perdue',\n",
       "       'Pokémon GO', 'Astres Radieux', 'Stars Étincelantes',\n",
       "       'Poing de Fusion', 'Célébrations', 'Évolution Céleste',\n",
       "       'Styles de Combat', 'Destinées Radieuses', 'Voltage Éclatant',\n",
       "       'La Voie du Maître', 'Ténèbres Embrasées', 'Clash des Rebelles',\n",
       "       'Épée et Bouclier'], dtype=object)"
      ]
     },
     "execution_count": 61,
     "metadata": {},
     "output_type": "execute_result"
    }
   ],
   "source": [
    "EB_set_name_list"
   ]
  },
  {
   "cell_type": "code",
   "execution_count": 62,
   "metadata": {},
   "outputs": [
    {
     "data": {
      "text/plain": [
       "array(['Éclipse Cosmique', 'Destinées Occultes', 'Harmonie des Esprits',\n",
       "       'Alliance Infaillible', 'Duo de Choc', 'Tonnerre Perdu',\n",
       "       'Majesté des Dragons', 'Tempête Céleste', 'Lumière Interdite',\n",
       "       'Ultra-Prisme', 'Invasion Carmin', 'Légendes Brillantes',\n",
       "       'Ombres Ardentes', 'Gardiens Ascendants', 'Soleil et Lune'],\n",
       "      dtype=object)"
      ]
     },
     "execution_count": 62,
     "metadata": {},
     "output_type": "execute_result"
    }
   ],
   "source": [
    "SM_set_name_list "
   ]
  },
  {
   "cell_type": "code",
   "execution_count": 63,
   "metadata": {},
   "outputs": [
    {
     "data": {
      "text/plain": [
       "array(['Évolutions', 'Offensive Vapeur', 'Impact des Destins',\n",
       "       'Générations', 'Rupture Turbo', 'Impulsion Turbo',\n",
       "       'Origines Antiques', 'Ciel Rugissant', 'Double Danger',\n",
       "       'Primo-Choc', 'Vigueur Spectrale', 'Poings Furieux', 'Étincelles',\n",
       "       'XY'], dtype=object)"
      ]
     },
     "execution_count": 63,
     "metadata": {},
     "output_type": "execute_result"
    }
   ],
   "source": [
    "XY_set_name_list"
   ]
  },
  {
   "cell_type": "code",
   "execution_count": 64,
   "metadata": {},
   "outputs": [
    {
     "data": {
      "text/plain": [
       "array(['Legendary Treasures', 'Explosion Plasma', 'Glaciation Plasma',\n",
       "       'Tempête Plasma', 'Frontières Franchies', 'Coffre des Dragons',\n",
       "       'Dragons Exaltés', 'Explorateurs Obscurs', 'Destinées Futures',\n",
       "       'Nobles Victoires', 'Pouvoirs Émergents', 'Noir et Blanc',\n",
       "       'Promos Black Star Noir & Blanc'], dtype=object)"
      ]
     },
     "execution_count": 64,
     "metadata": {},
     "output_type": "execute_result"
    }
   ],
   "source": [
    "NB_set_name_list"
   ]
  },
  {
   "cell_type": "code",
   "execution_count": 65,
   "metadata": {},
   "outputs": [
    {
     "data": {
      "text/plain": [
       "array(['Skyridge', 'Aquapolis', 'Expedition', 'Legendary Collection',\n",
       "       'Neo Destiny', 'Neo Revelation', 'Neo Discovery', 'Neo Genesis',\n",
       "       'Gym Challenge', 'Gym Heroes', 'Team Rocket', 'Base Set 2',\n",
       "       'Fossile', 'Jungle', 'Set de base',\n",
       "       'Promo Black Star Wizard Of The Coast'], dtype=object)"
      ]
     },
     "execution_count": 65,
     "metadata": {},
     "output_type": "execute_result"
    }
   ],
   "source": [
    "LC_set_name_list "
   ]
  },
  {
   "cell_type": "code",
   "execution_count": 66,
   "metadata": {},
   "outputs": [
    {
     "data": {
      "text/plain": [
       "array(['HS : Triomphe', 'HS : Indomptable', 'HS : Déchaînement',\n",
       "       'HeartGold SoulSilver', 'Promos Black Star HeartGold SoulSilver'],\n",
       "      dtype=object)"
      ]
     },
     "execution_count": 66,
     "metadata": {},
     "output_type": "execute_result"
    }
   ],
   "source": [
    "HGSS_set_name_list "
   ]
  },
  {
   "cell_type": "code",
   "execution_count": 67,
   "metadata": {},
   "outputs": [
    {
     "data": {
      "text/plain": [
       "array(['Platine : Arceus', 'Platine : Vainqueurs Suprêmes',\n",
       "       'Platine : Rivaux Émergeants', 'Platine'], dtype=object)"
      ]
     },
     "execution_count": 67,
     "metadata": {},
     "output_type": "execute_result"
    }
   ],
   "source": [
    "PLAT_set_name_list"
   ]
  },
  {
   "cell_type": "code",
   "execution_count": 70,
   "metadata": {},
   "outputs": [
    {
     "data": {
      "text/plain": [
       "array(['Diamant & Perle : Tempête',\n",
       "       'Diamant & Perle : Eveil des Légendes',\n",
       "       'Diamant & Perle : Aube Majestueuse',\n",
       "       'Diamant & Perle : Duels au Sommet',\n",
       "       'Diamant & Perle : Merveilles Secretes',\n",
       "       'Diamant & Perle : Trésors Mystérieux', 'Diamant & Perle',\n",
       "       'Promos Black Star DP'], dtype=object)"
      ]
     },
     "execution_count": 70,
     "metadata": {},
     "output_type": "execute_result"
    }
   ],
   "source": [
    "DP_set_name_list"
   ]
  },
  {
   "cell_type": "code",
   "execution_count": 69,
   "metadata": {},
   "outputs": [
    {
     "data": {
      "text/plain": [
       "array(['EX : Gardiens du Pouvoir', 'EX : Iles des Dragons',\n",
       "       'EX : Gardiens de Cristal', 'EX : Fantômes Holon',\n",
       "       'EX : Créateurs de Légendes', 'EX : Espèce Delta',\n",
       "       'EX : Forces Cachées', 'EX : Emeraude',\n",
       "       'EX : Team Magma VS Team Aqua', 'EX : Deoxys',\n",
       "       'EX : Team Rocket Returns', 'EX : Rouge Feu & Vert Feuille',\n",
       "       'EX : Légendes Oubliées', 'EX : Dragon', 'EX : Tempête de Sable',\n",
       "       'EX : Rubis & Saphir', 'Black Star Nintendo'], dtype=object)"
      ]
     },
     "execution_count": 69,
     "metadata": {},
     "output_type": "execute_result"
    }
   ],
   "source": [
    "EX_set_name_list "
   ]
  },
  {
   "cell_type": "code",
   "execution_count": 68,
   "metadata": {},
   "outputs": [
    {
     "data": {
      "text/plain": [
       "array(['Skyridge', 'Aquapolis', 'Expedition', 'Legendary Collection',\n",
       "       'Neo Destiny', 'Neo Revelation', 'Neo Discovery', 'Neo Genesis',\n",
       "       'Gym Challenge', 'Gym Heroes', 'Team Rocket', 'Base Set 2',\n",
       "       'Fossile', 'Jungle', 'Set de base',\n",
       "       'Promo Black Star Wizard Of The Coast'], dtype=object)"
      ]
     },
     "execution_count": 68,
     "metadata": {},
     "output_type": "execute_result"
    }
   ],
   "source": [
    "WIZ_set_name_list"
   ]
  },
  {
   "cell_type": "markdown",
   "metadata": {},
   "source": [
    "### Attribution du bloc correspondant aux séries"
   ]
  },
  {
   "cell_type": "code",
   "execution_count": 85,
   "metadata": {},
   "outputs": [],
   "source": [
    "for sv_set_name in SV_set_name_list:\n",
    "    \n",
    "    filtered_rows = pokemon_set_df['set_name'] == sv_set_name\n",
    "    \n",
    "    pokemon_set_df.loc[filtered_rows, 'bloc_name'] = bloc_name_list[0]"
   ]
  },
  {
   "cell_type": "code",
   "execution_count": 86,
   "metadata": {},
   "outputs": [],
   "source": [
    "for eb_set_name in EB_set_name_list:\n",
    "    \n",
    "    filtered_rows = pokemon_set_df['set_name'] == eb_set_name\n",
    "    \n",
    "    pokemon_set_df.loc[filtered_rows, 'bloc_name'] = bloc_name_list[1]"
   ]
  },
  {
   "cell_type": "code",
   "execution_count": 87,
   "metadata": {},
   "outputs": [],
   "source": [
    "\n",
    "for sm_set_name in SM_set_name_list:\n",
    "    \n",
    "    filtered_rows = pokemon_set_df['set_name'] == sm_set_name\n",
    "    \n",
    "    pokemon_set_df.loc[filtered_rows, 'bloc_name'] = bloc_name_list[2]\n",
    "\n",
    "for xy_set_name in XY_set_name_list:\n",
    "    \n",
    "    filtered_rows = pokemon_set_df['set_name'] == xy_set_name\n",
    "    \n",
    "    pokemon_set_df.loc[filtered_rows, 'bloc_name'] = bloc_name_list[3] \n",
    "\n",
    "for nb_set_name in NB_set_name_list:\n",
    "    \n",
    "    filtered_rows = pokemon_set_df['set_name'] == nb_set_name\n",
    "    \n",
    "    pokemon_set_df.loc[filtered_rows, 'bloc_name'] = bloc_name_list[4] \n",
    "\n",
    "for lc_set_name in LC_set_name_list:\n",
    "    \n",
    "    filtered_rows = pokemon_set_df['set_name'] == lc_set_name\n",
    "    \n",
    "    pokemon_set_df.loc[filtered_rows, 'bloc_name'] = bloc_name_list[5] \n",
    "\n",
    "for hgss_set_name in HGSS_set_name_list:\n",
    "    \n",
    "    filtered_rows = pokemon_set_df['set_name'] == hgss_set_name\n",
    "    \n",
    "    pokemon_set_df.loc[filtered_rows, 'bloc_name'] = bloc_name_list[6]\n",
    "\n",
    "for plat_set_name in PLAT_set_name_list:\n",
    "    \n",
    "    filtered_rows = pokemon_set_df['set_name'] == plat_set_name\n",
    "    \n",
    "    pokemon_set_df.loc[filtered_rows, 'bloc_name'] = bloc_name_list[7] \n",
    "\n",
    "for dp_set_name in DP_set_name_list:\n",
    "    \n",
    "    filtered_rows = pokemon_set_df['set_name'] == dp_set_name\n",
    "    \n",
    "    pokemon_set_df.loc[filtered_rows, 'bloc_name'] = bloc_name_list[8] \n",
    "\n",
    "for ex_set_name in EX_set_name_list:\n",
    "    \n",
    "    filtered_rows = pokemon_set_df['set_name'] == ex_set_name\n",
    "    \n",
    "    pokemon_set_df.loc[filtered_rows, 'bloc_name'] = bloc_name_list[9] \n",
    "\n",
    "for wiz_set_name in WIZ_set_name_list:\n",
    "    \n",
    "    filtered_rows = pokemon_set_df['set_name'] == wiz_set_name\n",
    "    \n",
    "    pokemon_set_df.loc[filtered_rows, 'bloc_name'] = bloc_name_list[10]\n",
    "\n"
   ]
  },
  {
   "cell_type": "code",
   "execution_count": null,
   "metadata": {},
   "outputs": [],
   "source": [
    "pokemon_set_df.to_csv(r\"pokemon_set.csv\",index=False)"
   ]
  },
  {
   "cell_type": "code",
   "execution_count": 89,
   "metadata": {},
   "outputs": [
    {
     "data": {
      "text/html": [
       "<div>\n",
       "<style scoped>\n",
       "    .dataframe tbody tr th:only-of-type {\n",
       "        vertical-align: middle;\n",
       "    }\n",
       "\n",
       "    .dataframe tbody tr th {\n",
       "        vertical-align: top;\n",
       "    }\n",
       "\n",
       "    .dataframe thead th {\n",
       "        text-align: right;\n",
       "    }\n",
       "</style>\n",
       "<table border=\"1\" class=\"dataframe\">\n",
       "  <thead>\n",
       "    <tr style=\"text-align: right;\">\n",
       "      <th></th>\n",
       "      <th>set_name</th>\n",
       "      <th>card_title</th>\n",
       "      <th>release_date</th>\n",
       "      <th>cards_count</th>\n",
       "      <th>bloc_name</th>\n",
       "    </tr>\n",
       "  </thead>\n",
       "  <tbody>\n",
       "    <tr>\n",
       "      <th>0</th>\n",
       "      <td>Destinées de Paldea</td>\n",
       "      <td>pomdepik 1 91</td>\n",
       "      <td>26/01/2024</td>\n",
       "      <td>245</td>\n",
       "      <td>Écarlate et Violet</td>\n",
       "    </tr>\n",
       "    <tr>\n",
       "      <th>1</th>\n",
       "      <td>Destinées de Paldea</td>\n",
       "      <td>foretress ex 2 91</td>\n",
       "      <td>26/01/2024</td>\n",
       "      <td>245</td>\n",
       "      <td>Écarlate et Violet</td>\n",
       "    </tr>\n",
       "    <tr>\n",
       "      <th>2</th>\n",
       "      <td>Destinées de Paldea</td>\n",
       "      <td>maracachi 3 91</td>\n",
       "      <td>26/01/2024</td>\n",
       "      <td>245</td>\n",
       "      <td>Écarlate et Violet</td>\n",
       "    </tr>\n",
       "    <tr>\n",
       "      <th>3</th>\n",
       "      <td>Destinées de Paldea</td>\n",
       "      <td>terracool 4 91</td>\n",
       "      <td>26/01/2024</td>\n",
       "      <td>245</td>\n",
       "      <td>Écarlate et Violet</td>\n",
       "    </tr>\n",
       "    <tr>\n",
       "      <th>4</th>\n",
       "      <td>Destinées de Paldea</td>\n",
       "      <td>terracruel ex 5 91</td>\n",
       "      <td>26/01/2024</td>\n",
       "      <td>245</td>\n",
       "      <td>Écarlate et Violet</td>\n",
       "    </tr>\n",
       "    <tr>\n",
       "      <th>...</th>\n",
       "      <td>...</td>\n",
       "      <td>...</td>\n",
       "      <td>...</td>\n",
       "      <td>...</td>\n",
       "      <td>...</td>\n",
       "    </tr>\n",
       "    <tr>\n",
       "      <th>16034</th>\n",
       "      <td>Promo Black Star Wizard Of The Coast</td>\n",
       "      <td>celebi 50 54</td>\n",
       "      <td>17/11/1999</td>\n",
       "      <td>54</td>\n",
       "      <td>Wizards</td>\n",
       "    </tr>\n",
       "    <tr>\n",
       "      <th>16035</th>\n",
       "      <td>Promo Black Star Wizard Of The Coast</td>\n",
       "      <td>galopa 51 54</td>\n",
       "      <td>17/11/1999</td>\n",
       "      <td>54</td>\n",
       "      <td>Wizards</td>\n",
       "    </tr>\n",
       "    <tr>\n",
       "      <th>16036</th>\n",
       "      <td>Promo Black Star Wizard Of The Coast</td>\n",
       "      <td>ho oh 52 54</td>\n",
       "      <td>17/11/1999</td>\n",
       "      <td>54</td>\n",
       "      <td>Wizards</td>\n",
       "    </tr>\n",
       "    <tr>\n",
       "      <th>16037</th>\n",
       "      <td>Promo Black Star Wizard Of The Coast</td>\n",
       "      <td>suicune 53 54</td>\n",
       "      <td>17/11/1999</td>\n",
       "      <td>54</td>\n",
       "      <td>Wizards</td>\n",
       "    </tr>\n",
       "    <tr>\n",
       "      <th>16038</th>\n",
       "      <td>Promo Black Star Wizard Of The Coast</td>\n",
       "      <td>mew antique ??</td>\n",
       "      <td>17/11/1999</td>\n",
       "      <td>54</td>\n",
       "      <td>Wizards</td>\n",
       "    </tr>\n",
       "  </tbody>\n",
       "</table>\n",
       "<p>15856 rows × 5 columns</p>\n",
       "</div>"
      ],
      "text/plain": [
       "                                   set_name          card_title release_date  \\\n",
       "0                       Destinées de Paldea       pomdepik 1 91   26/01/2024   \n",
       "1                       Destinées de Paldea   foretress ex 2 91   26/01/2024   \n",
       "2                       Destinées de Paldea      maracachi 3 91   26/01/2024   \n",
       "3                       Destinées de Paldea      terracool 4 91   26/01/2024   \n",
       "4                       Destinées de Paldea  terracruel ex 5 91   26/01/2024   \n",
       "...                                     ...                 ...          ...   \n",
       "16034  Promo Black Star Wizard Of The Coast        celebi 50 54   17/11/1999   \n",
       "16035  Promo Black Star Wizard Of The Coast        galopa 51 54   17/11/1999   \n",
       "16036  Promo Black Star Wizard Of The Coast         ho oh 52 54   17/11/1999   \n",
       "16037  Promo Black Star Wizard Of The Coast       suicune 53 54   17/11/1999   \n",
       "16038  Promo Black Star Wizard Of The Coast      mew antique ??   17/11/1999   \n",
       "\n",
       "      cards_count           bloc_name  \n",
       "0             245  Écarlate et Violet  \n",
       "1             245  Écarlate et Violet  \n",
       "2             245  Écarlate et Violet  \n",
       "3             245  Écarlate et Violet  \n",
       "4             245  Écarlate et Violet  \n",
       "...           ...                 ...  \n",
       "16034          54             Wizards  \n",
       "16035          54             Wizards  \n",
       "16036          54             Wizards  \n",
       "16037          54             Wizards  \n",
       "16038          54             Wizards  \n",
       "\n",
       "[15856 rows x 5 columns]"
      ]
     },
     "execution_count": 89,
     "metadata": {},
     "output_type": "execute_result"
    }
   ],
   "source": [
    "pokemon_set_df"
   ]
  },
  {
   "cell_type": "markdown",
   "metadata": {},
   "source": [
    "# Traitement du nom des cartes "
   ]
  },
  {
   "cell_type": "markdown",
   "metadata": {},
   "source": [
    " Pour obtenir une véracité accrue des données lors du traitement des données, \n",
    " les noms des pokémons doivent être le plus précis possible et aussi suivre les conventions de noms que l'on retrouve sur ebay"
   ]
  },
  {
   "cell_type": "markdown",
   "metadata": {},
   "source": [
    "## Exemple\n",
    "\n",
    "Dans pokemon_set_df, si on prend la carte :\n",
    "* **\"lulugabre tg04\"**\n",
    "\n",
    "il serait **plus approprié**, pour **améliorer** la **véracité** des **données sélectionnées**, d'avoir un nom comme:\n",
    "* **\"lulugabre tg04 tg30\"** \n",
    "\n",
    "En effet ce dernier respecte les **\"conventions\" d'écriture** des vendeurs ebay français.\n",
    "\n",
    "## Exemple de conventions d'écriture\n",
    "\n",
    "* **Carte Pokémon Lugulabre TG04/TG30 Origine Perdue EB11 FR NEUF**\n",
    "\n",
    "#### Ici on peut voir différents mots clefs\n",
    "*  **\"carte** : en français\n",
    "\n",
    "* **\"lugulabre\"** : le nom de pokémon\n",
    "\n",
    "* **\"tg04/tg30\"** : le numéro de la carte dans la série\n",
    "\n",
    "* **\"Origine Perdue\"** : le nom de la série \n",
    "\n",
    "* **\"EB11\"** : le nom de la série en abrégé\n",
    "\n",
    "* **\"FR\"** : mot clef très utile pour identifier les cartes françaises\n",
    "\n",
    "* **\"NEUF\"** : mot clefs pour désigner l'état de la carte *non utilisé pour l'instant mais permettrait de classer les cartes scrappées avec plus de précisions.* "
   ]
  },
  {
   "cell_type": "markdown",
   "metadata": {},
   "source": [
    "## Code pour formatter le nom des cartes"
   ]
  },
  {
   "cell_type": "code",
   "execution_count": null,
   "metadata": {},
   "outputs": [],
   "source": [
    "# Fonction pour formatter le nom des cartes tg (trainer gallery)\n",
    "def update_card_title_w_tg(df):\n",
    "    # Créer un dictionnaire pour stocker le nombre de cartes tg par série\n",
    "    tg_count = {}\n",
    "    # Parcourir les lignes du DataFrame\n",
    "    for index, row in df.iterrows():\n",
    "        # Vérifier si le nom de la carte contient \"tg\"\n",
    "        if \"tg\" in row['card_title']:\n",
    "            # Extraire le numéro de la carte tg\n",
    "            tg_num = int(row['card_title'].split()[-1][2:])\n",
    "            # Mettre à jour le nombre total de cartes tg dans cette série\n",
    "            tg_count.setdefault(row['set_name'], 0)\n",
    "            tg_count[row['set_name']] = max(tg_count[row['set_name']], tg_num)\n",
    "    # Parcourir à nouveau les lignes pour mettre à jour les noms des cartes\n",
    "    for index, row in df.iterrows():\n",
    "        # Vérifier si le nom de la carte contient \"tg\"\n",
    "        if \"tg\" in row['card_title']:\n",
    "            # Extraire le numéro de la carte tg\n",
    "            tg_num = int(row['card_title'].split()[-1][2:])\n",
    "            # Mettre à jour le nom de la carte en ajoutant le rapport\n",
    "            df.at[index, 'card_title'] += f\" tg{tg_count[row['set_name']]}\"\n",
    "    return df"
   ]
  },
  {
   "cell_type": "code",
   "execution_count": null,
   "metadata": {},
   "outputs": [],
   "source": [
    "def update_card_title_w_gg(df):\n",
    "    # Créer un dictionnaire pour stocker le nombre de cartes gg par série\n",
    "    gg_count = {}\n",
    "    \n",
    "    # Parcourir les lignes du DataFrame\n",
    "    for index, row in df.iterrows():\n",
    "        # Vérifier si le nom de la carte contient \"gg\" et exclure les exceptions\n",
    "        if \"gg\" in row['card_title'] and row['card_title'] != \"baggiguane 98 203\" and row['card_title'] != \"baggaid 99 203\":\n",
    "            # Extraire le numéro de la carte gg\n",
    "            gg_num_str = row['card_title'].split()[-1][2:]\n",
    "            \n",
    "            # Vérifier si la chaîne extraite est non vide\n",
    "            if gg_num_str:\n",
    "                gg_num = int(gg_num_str)\n",
    "                \n",
    "                # Mettre à jour le nombre total de cartes gg dans cette série\n",
    "                gg_count.setdefault(row['set_name'], 0)\n",
    "                gg_count[row['set_name']] = max(gg_count[row['set_name']], gg_num)\n",
    "    \n",
    "    # Parcourir à nouveau les lignes pour mettre à jour les noms des cartes\n",
    "    for index, row in df.iterrows():\n",
    "        # Vérifier si le nom de la carte contient \"gg\" et exclure les exceptions\n",
    "        if \"gg\" in row['card_title'] and row['card_title'] != \"baggiguane 98 203\" and row['card_title'] != \"baggaid 99 203\":\n",
    "            # Extraire le numéro de la carte gg\n",
    "            gg_num_str = row['card_title'].split()[-1][2:]\n",
    "            \n",
    "            # Vérifier si la chaîne extraite est non vide\n",
    "            if gg_num_str:\n",
    "                gg_num = int(gg_num_str)\n",
    "                \n",
    "                # Mettre à jour le nom de la carte en ajoutant le rapport\n",
    "                df.at[index, 'card_title'] += f\" gg{gg_count[row['set_name']]}\"\n",
    "    \n",
    "    return df"
   ]
  },
  {
   "cell_type": "code",
   "execution_count": null,
   "metadata": {},
   "outputs": [],
   "source": [
    "def update_card_title_w_sv(df):\n",
    "    # Créer un dictionnaire pour stocker le nombre de cartes sv par série\n",
    "    sv_count = {}\n",
    "    \n",
    "    # Parcourir les lignes du DataFrame\n",
    "    for index, row in df.iterrows():\n",
    "        # Vérifier si le nom de la carte contient \"sv\"\n",
    "        if \"sv\" in row['card_title']:\n",
    "            # Extraire le numéro de la carte sv\n",
    "            sv_num = int(row['card_title'].split()[-1][2:])\n",
    "            # Mettre à jour le nombre total de cartes sv dans cette série\n",
    "            sv_count.setdefault(row['set_name'], 0)\n",
    "            sv_count[row['set_name']] = max(sv_count[row['set_name']], sv_num)\n",
    "    \n",
    "    # Parcourir à nouveau les lignes pour mettre à jour les noms des cartes\n",
    "    for index, row in df.iterrows():\n",
    "        # Vérifier si le nom de la carte contient \"sv\"\n",
    "        if \"sv\" in row['card_title']:\n",
    "            # Extraire le numéro de la carte sv\n",
    "            sv_num = int(row['card_title'].split()[-1][2:])\n",
    "            # Mettre à jour le nom de la carte en ajoutant le rapport\n",
    "            df.at[index, 'card_title'] += f\" sv{sv_count[row['set_name']]}\"\n",
    "    \n",
    "    return df"
   ]
  },
  {
   "cell_type": "code",
   "execution_count": null,
   "metadata": {},
   "outputs": [],
   "source": [
    "pokemon_set_df = pokemon_set_df.groupby('set_name').apply(update_card_title_w_tg).reset_index(drop=True)"
   ]
  },
  {
   "cell_type": "code",
   "execution_count": null,
   "metadata": {},
   "outputs": [],
   "source": [
    "pokemon_set_df = pokemon_set_df.groupby('set_name').apply(update_card_title_w_gg).reset_index(drop=True)"
   ]
  },
  {
   "cell_type": "code",
   "execution_count": null,
   "metadata": {},
   "outputs": [],
   "source": [
    "pokemon_set_df = pokemon_set_df.groupby('set_name').apply(update_card_title_w_sv).reset_index(drop=True)"
   ]
  },
  {
   "cell_type": "markdown",
   "metadata": {},
   "source": [
    "#### Problème avec laggron 64 264 gg4 donc on agit directement sur la ligne concernée"
   ]
  },
  {
   "cell_type": "code",
   "execution_count": null,
   "metadata": {},
   "outputs": [],
   "source": [
    "pokemon_set_df['card_title'].replace('laggron 64 264 gg4', 'laggron 64 264', inplace=True)\n"
   ]
  },
  {
   "cell_type": "markdown",
   "metadata": {},
   "source": [
    "### Renommage colonne 'card_title' en 'card_name'"
   ]
  },
  {
   "cell_type": "code",
   "execution_count": null,
   "metadata": {},
   "outputs": [],
   "source": [
    "pokemon_set_df.rename(columns={'card_title': 'card_name'}, inplace=True)"
   ]
  },
  {
   "cell_type": "markdown",
   "metadata": {},
   "source": [
    "# Exportation du dataframe au format .csv"
   ]
  },
  {
   "cell_type": "code",
   "execution_count": null,
   "metadata": {},
   "outputs": [],
   "source": [
    "pokemon_set_df.to_csv(\"pokemon_set_formatted.csv\",index=False)"
   ]
  }
 ],
 "metadata": {
  "kernelspec": {
   "display_name": "Python 3",
   "language": "python",
   "name": "python3"
  },
  "language_info": {
   "codemirror_mode": {
    "name": "ipython",
    "version": 3
   },
   "file_extension": ".py",
   "mimetype": "text/x-python",
   "name": "python",
   "nbconvert_exporter": "python",
   "pygments_lexer": "ipython3",
   "version": "3.11.4"
  }
 },
 "nbformat": 4,
 "nbformat_minor": 2
}
