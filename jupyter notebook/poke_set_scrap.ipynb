{
 "cells": [
  {
   "cell_type": "code",
   "execution_count": 2,
   "metadata": {},
   "outputs": [],
   "source": [
    "# Libraries for Web Scraping\n",
    "from bs4 import BeautifulSoup\n",
    "import requests\n",
    "\n",
    "# Libraries for Data Processing\n",
    "import pandas as pd \n",
    "from unidecode import unidecode\n",
    "from datetime import datetime\n",
    "import time\n",
    "import re"
   ]
  },
  {
   "cell_type": "markdown",
   "metadata": {},
   "source": [
    "# Récupération des données des sets pokémons (Nom du set + cartes associées)"
   ]
  },
  {
   "cell_type": "code",
   "execution_count": 3,
   "metadata": {},
   "outputs": [],
   "source": [
    "pokemon_set_name_list =[\n",
    "    'PAF',\n",
    "    'PAR',\n",
    "    'MEW',\n",
    "    'OBF',\n",
    "    'PAL',\n",
    "    'SVI',\n",
    "    'CRZ',\n",
    "    'SIT',\n",
    "    'LOR',\n",
    "    'PGO',\n",
    "    'ASR',\n",
    "    'BRS',\n",
    "    'FST',\n",
    "    'CEL',\n",
    "    'EVS',\n",
    "    'CRS',\n",
    "    'SWSH5',\n",
    "    'SWSH45',\n",
    "    'SWSH4',\n",
    "    'SWSH35',\n",
    "    'SWSH3',\n",
    "    'SWSH2',\n",
    "    'SWSH1',\n",
    "    ]"
   ]
  },
  {
   "cell_type": "code",
   "execution_count": 4,
   "metadata": {},
   "outputs": [],
   "source": [
    "def get_set_name_data(pokemon_set_name_list):\n",
    "    soup_list = []\n",
    "\n",
    "    for set_name in pokemon_set_name_list:\n",
    "        url = f'https://www.pokecardex.com/series/{set_name}'\n",
    "        \n",
    "        # Récupérer le contenu de la page\n",
    "        r = requests.get(url)\n",
    "        if r.status_code == 200:\n",
    "            soup = BeautifulSoup(r.text, 'html.parser')\n",
    "            soup_list.append(soup)\n",
    "        else:\n",
    "            print(f\"La requête pour {set_name} a échoué avec le code d'état {r.status_code}\")\n",
    "\n",
    "    return soup_list"
   ]
  },
  {
   "cell_type": "code",
   "execution_count": 5,
   "metadata": {},
   "outputs": [],
   "source": [
    "def parse(soup_list):\n",
    "    set_data_list = []\n",
    "\n",
    "\n",
    "    for soup in soup_list:\n",
    "        \n",
    "        # Trouver le titre de la série s'il est présent\n",
    "        set_title_tag = soup.find('h5', class_='d-block text-center mb-3')\n",
    "        if set_title_tag:\n",
    "            set_title = set_title_tag.text.strip()\n",
    "\n",
    "            # Trouver toutes les divisions de carte sur la page\n",
    "            card_divs = soup.find_all('div', class_='serie-details-carte')\n",
    "\n",
    "            # Pour chaque division de carte, extraire le titre de la carte et l'associer à la série\n",
    "            for card_div in card_divs:\n",
    "                card_title = card_div.find('a').get('title')\n",
    "                set_data_list.append({'set_name': set_title, 'card_title': card_title})\n",
    "        else:\n",
    "            print(\"Balise de titre de série non trouvée sur la page.\")\n",
    "\n",
    "    return  set_data_list"
   ]
  },
  {
   "cell_type": "code",
   "execution_count": 6,
   "metadata": {},
   "outputs": [],
   "source": [
    "def output(set_data_list):\n",
    "    cards_df = pd.DataFrame(set_data_list)\n",
    "    cards_df.drop_duplicates(inplace=True)\n",
    "    return cards_df"
   ]
  },
  {
   "cell_type": "code",
   "execution_count": 7,
   "metadata": {},
   "outputs": [],
   "source": [
    "def set_name_scrap(pokemon_set_name_list):\n",
    "    soup = get_set_name_data(pokemon_set_name_list)\n",
    "    soup_list = parse(soup)\n",
    "    cards_df = output(soup_list)\n",
    "    cards_df['card_title'] = cards_df['card_title'].apply(unidecode)\n",
    "    cards_df['card_title'] = cards_df['card_title'].str.lower()\n",
    "    cards_df['card_title'] = cards_df['card_title'].str.replace('/', ' ')\n",
    "    cards_df['card_title'] = cards_df['card_title'].str.replace('-', ' ')\n",
    "    return cards_df"
   ]
  },
  {
   "cell_type": "code",
   "execution_count": 8,
   "metadata": {},
   "outputs": [
    {
     "name": "stdout",
     "output_type": "stream",
     "text": [
      "Balise de titre de série non trouvée sur la page.\n"
     ]
    }
   ],
   "source": [
    "pokemon_set_df = set_name_scrap(pokemon_set_name_list)"
   ]
  },
  {
   "cell_type": "code",
   "execution_count": 9,
   "metadata": {},
   "outputs": [
    {
     "data": {
      "text/html": [
       "<div>\n",
       "<style scoped>\n",
       "    .dataframe tbody tr th:only-of-type {\n",
       "        vertical-align: middle;\n",
       "    }\n",
       "\n",
       "    .dataframe tbody tr th {\n",
       "        vertical-align: top;\n",
       "    }\n",
       "\n",
       "    .dataframe thead th {\n",
       "        text-align: right;\n",
       "    }\n",
       "</style>\n",
       "<table border=\"1\" class=\"dataframe\">\n",
       "  <thead>\n",
       "    <tr style=\"text-align: right;\">\n",
       "      <th></th>\n",
       "      <th>set_name</th>\n",
       "      <th>card_title</th>\n",
       "    </tr>\n",
       "  </thead>\n",
       "  <tbody>\n",
       "    <tr>\n",
       "      <th>0</th>\n",
       "      <td>Destinées de Paldea</td>\n",
       "      <td>pomdepik 1 91</td>\n",
       "    </tr>\n",
       "    <tr>\n",
       "      <th>1</th>\n",
       "      <td>Destinées de Paldea</td>\n",
       "      <td>foretress ex 2 91</td>\n",
       "    </tr>\n",
       "    <tr>\n",
       "      <th>2</th>\n",
       "      <td>Destinées de Paldea</td>\n",
       "      <td>maracachi 3 91</td>\n",
       "    </tr>\n",
       "    <tr>\n",
       "      <th>3</th>\n",
       "      <td>Destinées de Paldea</td>\n",
       "      <td>terracool 4 91</td>\n",
       "    </tr>\n",
       "    <tr>\n",
       "      <th>4</th>\n",
       "      <td>Destinées de Paldea</td>\n",
       "      <td>terracruel ex 5 91</td>\n",
       "    </tr>\n",
       "    <tr>\n",
       "      <th>...</th>\n",
       "      <td>...</td>\n",
       "      <td>...</td>\n",
       "    </tr>\n",
       "    <tr>\n",
       "      <th>4610</th>\n",
       "      <td>Épée et Bouclier</td>\n",
       "      <td>zamazenta v 212 202</td>\n",
       "    </tr>\n",
       "    <tr>\n",
       "      <th>4611</th>\n",
       "      <td>Épée et Bouclier</td>\n",
       "      <td>ballon 213 202</td>\n",
       "    </tr>\n",
       "    <tr>\n",
       "      <th>4612</th>\n",
       "      <td>Épée et Bouclier</td>\n",
       "      <td>ecusson metal 214 202</td>\n",
       "    </tr>\n",
       "    <tr>\n",
       "      <th>4613</th>\n",
       "      <td>Épée et Bouclier</td>\n",
       "      <td>canne ordinaire 215 202</td>\n",
       "    </tr>\n",
       "    <tr>\n",
       "      <th>4614</th>\n",
       "      <td>Épée et Bouclier</td>\n",
       "      <td>rapide ball 216 202</td>\n",
       "    </tr>\n",
       "  </tbody>\n",
       "</table>\n",
       "<p>4615 rows × 2 columns</p>\n",
       "</div>"
      ],
      "text/plain": [
       "                 set_name               card_title\n",
       "0     Destinées de Paldea            pomdepik 1 91\n",
       "1     Destinées de Paldea        foretress ex 2 91\n",
       "2     Destinées de Paldea           maracachi 3 91\n",
       "3     Destinées de Paldea           terracool 4 91\n",
       "4     Destinées de Paldea       terracruel ex 5 91\n",
       "...                   ...                      ...\n",
       "4610     Épée et Bouclier      zamazenta v 212 202\n",
       "4611     Épée et Bouclier           ballon 213 202\n",
       "4612     Épée et Bouclier    ecusson metal 214 202\n",
       "4613     Épée et Bouclier  canne ordinaire 215 202\n",
       "4614     Épée et Bouclier      rapide ball 216 202\n",
       "\n",
       "[4615 rows x 2 columns]"
      ]
     },
     "execution_count": 9,
     "metadata": {},
     "output_type": "execute_result"
    }
   ],
   "source": [
    "pokemon_set_df"
   ]
  },
  {
   "cell_type": "markdown",
   "metadata": {},
   "source": [
    "# Récupération du nom des Blocs ( Ecarlate et Violet, Epée et Bouclier, etc...)"
   ]
  },
  {
   "cell_type": "code",
   "execution_count": 10,
   "metadata": {},
   "outputs": [],
   "source": [
    "def get_bloc_name_data():\n",
    "    soup_list = []\n",
    "\n",
    "    \n",
    "    url = f'https://www.pokecardex.com/series/'\n",
    "        \n",
    "    # Récupérer le contenu de la page\n",
    "    r = requests.get(url)\n",
    "    if r.status_code == 200:\n",
    "        soup = BeautifulSoup(r.text, 'html.parser')\n",
    "        soup_list.append(soup)\n",
    "    else:\n",
    "        print(f\"La requête pour {set_name} a échoué avec le code d'état {r.status_code}\")\n",
    "\n",
    "    return soup_list"
   ]
  },
  {
   "cell_type": "code",
   "execution_count": 11,
   "metadata": {},
   "outputs": [],
   "source": [
    "def bloc_name_parse(soup_list):\n",
    "    bloc_names_list = []\n",
    "    for soup in soup_list:\n",
    "        \n",
    "        bloc_name_tags = soup.find_all('p', class_='p-0 m-0')\n",
    "        for bloc_tag in bloc_name_tags:\n",
    "            bloc_name = bloc_tag.text.strip()\n",
    "            bloc_names_list.append(bloc_name)\n",
    "    return bloc_names_list"
   ]
  },
  {
   "cell_type": "code",
   "execution_count": 23,
   "metadata": {},
   "outputs": [],
   "source": [
    "def bloc_name_list():\n",
    "    bloc_soup_list = get_bloc_name_data()\n",
    "    bloc_name_list = bloc_name_parse(bloc_soup_list)\n",
    "    \n",
    "    '''# Liste pour stocker les noms de blocs modifiés\n",
    "    modified_bloc_name_list = []\n",
    "    \n",
    "    for bloc_name in bloc_name_list:\n",
    "        # Convertir en minuscules et enlever les accents\n",
    "        modified_bloc_name = unidecode(bloc_name.lower())\n",
    "        modified_bloc_name_list.append(modified_bloc_name)\n",
    "    \n",
    "    modified_bloc_name_list = modified_bloc_name_list[:2]'''\n",
    "        \n",
    "    return bloc_name_list[:2]"
   ]
  },
  {
   "cell_type": "code",
   "execution_count": 24,
   "metadata": {},
   "outputs": [],
   "source": [
    "bloc_name_list = bloc_name_list()"
   ]
  },
  {
   "cell_type": "code",
   "execution_count": 25,
   "metadata": {},
   "outputs": [
    {
     "data": {
      "text/plain": [
       "['Écarlate et Violet', 'Épée et Bouclier']"
      ]
     },
     "execution_count": 25,
     "metadata": {},
     "output_type": "execute_result"
    }
   ],
   "source": [
    "bloc_name_list "
   ]
  },
  {
   "cell_type": "markdown",
   "metadata": {},
   "source": [
    "# Assignation du nom du bloc aux séries correspondantes"
   ]
  },
  {
   "cell_type": "code",
   "execution_count": 26,
   "metadata": {},
   "outputs": [],
   "source": [
    "set_name_list = pokemon_set_df['set_name'].unique()"
   ]
  },
  {
   "cell_type": "markdown",
   "metadata": {},
   "source": [
    "### Création de listes distincetes en fonction des séries"
   ]
  },
  {
   "cell_type": "code",
   "execution_count": 27,
   "metadata": {},
   "outputs": [],
   "source": [
    "SV_set_name_list = set_name_list[:6]\n",
    "EB_set_name_list = set_name_list[6:]"
   ]
  },
  {
   "cell_type": "code",
   "execution_count": 28,
   "metadata": {},
   "outputs": [
    {
     "data": {
      "text/plain": [
       "array(['Destinées de Paldea', 'Faille Paradoxe', '151',\n",
       "       'Flammes Obsidiennes', 'Évolutions à Paldea', 'Écarlate et Violet'],\n",
       "      dtype=object)"
      ]
     },
     "execution_count": 28,
     "metadata": {},
     "output_type": "execute_result"
    }
   ],
   "source": [
    "SV_set_name_list"
   ]
  },
  {
   "cell_type": "code",
   "execution_count": 29,
   "metadata": {},
   "outputs": [
    {
     "data": {
      "text/plain": [
       "array(['Zénith Suprême', 'Tempête Argentée', 'Origine Perdue',\n",
       "       'Pokémon GO', 'Astres Radieux', 'Stars Étincelantes',\n",
       "       'Poing de Fusion', 'Célébrations', 'Évolution Céleste',\n",
       "       'Styles de Combat', 'Destinées Radieuses', 'Voltage Éclatant',\n",
       "       'La Voie du Maître', 'Ténèbres Embrasées', 'Clash des Rebelles',\n",
       "       'Épée et Bouclier'], dtype=object)"
      ]
     },
     "execution_count": 29,
     "metadata": {},
     "output_type": "execute_result"
    }
   ],
   "source": [
    "EB_set_name_list"
   ]
  },
  {
   "cell_type": "markdown",
   "metadata": {},
   "source": [
    "### Attribution du bloc correspondant aux séries"
   ]
  },
  {
   "cell_type": "code",
   "execution_count": 30,
   "metadata": {},
   "outputs": [],
   "source": [
    "for sv_set_name in SV_set_name_list:\n",
    "    \n",
    "    filtered_rows = pokemon_set_df['set_name'] == sv_set_name\n",
    "    \n",
    "    pokemon_set_df.loc[filtered_rows, 'bloc_name'] = bloc_name_list[0]"
   ]
  },
  {
   "cell_type": "code",
   "execution_count": 31,
   "metadata": {},
   "outputs": [],
   "source": [
    "for eb_set_name in EB_set_name_list:\n",
    "    \n",
    "    filtered_rows = pokemon_set_df['set_name'] == eb_set_name\n",
    "    \n",
    "    pokemon_set_df.loc[filtered_rows, 'bloc_name'] = bloc_name_list[1]"
   ]
  },
  {
   "cell_type": "code",
   "execution_count": 33,
   "metadata": {},
   "outputs": [],
   "source": [
    "pokemon_set_df.to_csv(r\"pokemon_set.csv\",index=False)"
   ]
  },
  {
   "cell_type": "code",
   "execution_count": 34,
   "metadata": {},
   "outputs": [
    {
     "data": {
      "text/html": [
       "<div>\n",
       "<style scoped>\n",
       "    .dataframe tbody tr th:only-of-type {\n",
       "        vertical-align: middle;\n",
       "    }\n",
       "\n",
       "    .dataframe tbody tr th {\n",
       "        vertical-align: top;\n",
       "    }\n",
       "\n",
       "    .dataframe thead th {\n",
       "        text-align: right;\n",
       "    }\n",
       "</style>\n",
       "<table border=\"1\" class=\"dataframe\">\n",
       "  <thead>\n",
       "    <tr style=\"text-align: right;\">\n",
       "      <th></th>\n",
       "      <th>set_name</th>\n",
       "      <th>card_title</th>\n",
       "      <th>bloc_name</th>\n",
       "    </tr>\n",
       "  </thead>\n",
       "  <tbody>\n",
       "    <tr>\n",
       "      <th>0</th>\n",
       "      <td>Destinées de Paldea</td>\n",
       "      <td>pomdepik 1 91</td>\n",
       "      <td>Écarlate et Violet</td>\n",
       "    </tr>\n",
       "    <tr>\n",
       "      <th>1</th>\n",
       "      <td>Destinées de Paldea</td>\n",
       "      <td>foretress ex 2 91</td>\n",
       "      <td>Écarlate et Violet</td>\n",
       "    </tr>\n",
       "    <tr>\n",
       "      <th>2</th>\n",
       "      <td>Destinées de Paldea</td>\n",
       "      <td>maracachi 3 91</td>\n",
       "      <td>Écarlate et Violet</td>\n",
       "    </tr>\n",
       "    <tr>\n",
       "      <th>3</th>\n",
       "      <td>Destinées de Paldea</td>\n",
       "      <td>terracool 4 91</td>\n",
       "      <td>Écarlate et Violet</td>\n",
       "    </tr>\n",
       "    <tr>\n",
       "      <th>4</th>\n",
       "      <td>Destinées de Paldea</td>\n",
       "      <td>terracruel ex 5 91</td>\n",
       "      <td>Écarlate et Violet</td>\n",
       "    </tr>\n",
       "    <tr>\n",
       "      <th>...</th>\n",
       "      <td>...</td>\n",
       "      <td>...</td>\n",
       "      <td>...</td>\n",
       "    </tr>\n",
       "    <tr>\n",
       "      <th>4610</th>\n",
       "      <td>Épée et Bouclier</td>\n",
       "      <td>zamazenta v 212 202</td>\n",
       "      <td>Épée et Bouclier</td>\n",
       "    </tr>\n",
       "    <tr>\n",
       "      <th>4611</th>\n",
       "      <td>Épée et Bouclier</td>\n",
       "      <td>ballon 213 202</td>\n",
       "      <td>Épée et Bouclier</td>\n",
       "    </tr>\n",
       "    <tr>\n",
       "      <th>4612</th>\n",
       "      <td>Épée et Bouclier</td>\n",
       "      <td>ecusson metal 214 202</td>\n",
       "      <td>Épée et Bouclier</td>\n",
       "    </tr>\n",
       "    <tr>\n",
       "      <th>4613</th>\n",
       "      <td>Épée et Bouclier</td>\n",
       "      <td>canne ordinaire 215 202</td>\n",
       "      <td>Épée et Bouclier</td>\n",
       "    </tr>\n",
       "    <tr>\n",
       "      <th>4614</th>\n",
       "      <td>Épée et Bouclier</td>\n",
       "      <td>rapide ball 216 202</td>\n",
       "      <td>Épée et Bouclier</td>\n",
       "    </tr>\n",
       "  </tbody>\n",
       "</table>\n",
       "<p>4615 rows × 3 columns</p>\n",
       "</div>"
      ],
      "text/plain": [
       "                 set_name               card_title           bloc_name\n",
       "0     Destinées de Paldea            pomdepik 1 91  Écarlate et Violet\n",
       "1     Destinées de Paldea        foretress ex 2 91  Écarlate et Violet\n",
       "2     Destinées de Paldea           maracachi 3 91  Écarlate et Violet\n",
       "3     Destinées de Paldea           terracool 4 91  Écarlate et Violet\n",
       "4     Destinées de Paldea       terracruel ex 5 91  Écarlate et Violet\n",
       "...                   ...                      ...                 ...\n",
       "4610     Épée et Bouclier      zamazenta v 212 202    Épée et Bouclier\n",
       "4611     Épée et Bouclier           ballon 213 202    Épée et Bouclier\n",
       "4612     Épée et Bouclier    ecusson metal 214 202    Épée et Bouclier\n",
       "4613     Épée et Bouclier  canne ordinaire 215 202    Épée et Bouclier\n",
       "4614     Épée et Bouclier      rapide ball 216 202    Épée et Bouclier\n",
       "\n",
       "[4615 rows x 3 columns]"
      ]
     },
     "execution_count": 34,
     "metadata": {},
     "output_type": "execute_result"
    }
   ],
   "source": [
    "pokemon_set_df"
   ]
  }
 ],
 "metadata": {
  "kernelspec": {
   "display_name": "Python 3",
   "language": "python",
   "name": "python3"
  },
  "language_info": {
   "codemirror_mode": {
    "name": "ipython",
    "version": 3
   },
   "file_extension": ".py",
   "mimetype": "text/x-python",
   "name": "python",
   "nbconvert_exporter": "python",
   "pygments_lexer": "ipython3",
   "version": "3.11.4"
  }
 },
 "nbformat": 4,
 "nbformat_minor": 2
}
