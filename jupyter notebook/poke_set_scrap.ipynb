{
 "cells": [
  {
   "cell_type": "code",
   "execution_count": 45,
   "metadata": {},
   "outputs": [],
   "source": [
    "# Libraries for Web Scraping\n",
    "from bs4 import BeautifulSoup\n",
    "import requests\n",
    "\n",
    "# Libraries for Data Processing\n",
    "import pandas as pd \n",
    "from unidecode import unidecode\n",
    "from datetime import datetime\n",
    "import time\n",
    "import re"
   ]
  },
  {
   "cell_type": "markdown",
   "metadata": {},
   "source": [
    "# Récupération des données des sets pokémons (Nom du set + cartes associées)"
   ]
  },
  {
   "cell_type": "code",
   "execution_count": 46,
   "metadata": {},
   "outputs": [],
   "source": [
    "pokemon_set_name_list =[\n",
    "    'PAF',\n",
    "    'PAR',\n",
    "    'MEW',\n",
    "    'OBF',\n",
    "    'PAL',\n",
    "    'SVI',\n",
    "    'CRZ',\n",
    "    'SIT',\n",
    "    'LOR',\n",
    "    'PGO',\n",
    "    'ASR',\n",
    "    'BRS',\n",
    "    'FST',\n",
    "    'CEL',\n",
    "    'EVS',\n",
    "    'CRS',\n",
    "    'SWSH5',\n",
    "    'SWSH45',\n",
    "    'SWSH4',\n",
    "    'SWSH35',\n",
    "    'SWSH3',\n",
    "    'SWSH2',\n",
    "    'SWSH1'\n",
    "    ]"
   ]
  },
  {
   "cell_type": "code",
   "execution_count": 47,
   "metadata": {},
   "outputs": [],
   "source": [
    "def get_set_name_data(pokemon_set_name_list):\n",
    "    soup_list = []\n",
    "\n",
    "    for set_name in pokemon_set_name_list:\n",
    "        url = f'https://www.pokecardex.com/series/{set_name}'\n",
    "        \n",
    "        # Récupérer le contenu de la page\n",
    "        r = requests.get(url)\n",
    "        if r.status_code == 200:\n",
    "            soup = BeautifulSoup(r.text, 'html.parser')\n",
    "            soup_list.append(soup)\n",
    "        else:\n",
    "            print(f\"La requête pour {set_name} a échoué avec le code d'état {r.status_code}\")\n",
    "\n",
    "    return soup_list"
   ]
  },
  {
   "cell_type": "code",
   "execution_count": 48,
   "metadata": {},
   "outputs": [],
   "source": [
    "def parse(soup_list):\n",
    "    set_data_list = []\n",
    "\n",
    "\n",
    "    for soup in soup_list:\n",
    "        \n",
    "        # Trouver le titre de la série s'il est présent\n",
    "        set_title_tag = soup.find('h5', class_='d-block text-center mb-3')\n",
    "        if set_title_tag:\n",
    "            set_title = set_title_tag.text.strip()\n",
    "\n",
    "            release_date_tag = soup.find('div', class_='d-flex align-items-center mt-2 d-none d-lg-block justify-content-lg-start')\n",
    "            if release_date_tag:\n",
    "                release_date = release_date_tag.text.strip()\n",
    "\n",
    "            cards_count_tag = soup.find('div', class_='d-flex align-items-center mt-2 justify-content-center justify-content-lg-start mb-3 mb-lg-0') \n",
    "            if cards_count_tag:\n",
    "                total_cards_count  = cards_count_tag.text.strip()\n",
    "                total_cards_count = total_cards_count.split()[0]\n",
    "\n",
    "            # Trouver toutes les divisions de carte sur la page\n",
    "            card_divs = soup.find_all('div', class_='serie-details-carte')\n",
    "\n",
    "            # Pour chaque division de carte, extraire le titre de la carte et l'associer à la série\n",
    "            for card_div in card_divs:\n",
    "                card_title = card_div.find('a').get('title')\n",
    "                set_data_list.append({'set_name' : set_title, 'card_title' : card_title,'release_date' : release_date, 'cards_count' : total_cards_count })\n",
    "        else:\n",
    "            print(\"Balise de titre de série non trouvée sur la page.\")\n",
    "\n",
    "    return  set_data_list"
   ]
  },
  {
   "cell_type": "code",
   "execution_count": 49,
   "metadata": {},
   "outputs": [],
   "source": [
    "def output(set_data_list):\n",
    "    cards_df = pd.DataFrame(set_data_list)\n",
    "    cards_df.drop_duplicates(inplace=True)\n",
    "    return cards_df"
   ]
  },
  {
   "cell_type": "code",
   "execution_count": 50,
   "metadata": {},
   "outputs": [],
   "source": [
    "def set_name_scrap(pokemon_set_name_list):\n",
    "    soup = get_set_name_data(pokemon_set_name_list)\n",
    "    soup_list = parse(soup)\n",
    "    cards_df = output(soup_list)\n",
    "    cards_df['card_title'] = cards_df['card_title'].apply(unidecode)\n",
    "    cards_df['card_title'] = cards_df['card_title'].str.lower()\n",
    "    cards_df['card_title'] = cards_df['card_title'].str.replace('/', ' ')\n",
    "    cards_df['card_title'] = cards_df['card_title'].str.replace('-', ' ')\n",
    "    return cards_df"
   ]
  },
  {
   "cell_type": "code",
   "execution_count": 52,
   "metadata": {},
   "outputs": [
    {
     "name": "stdout",
     "output_type": "stream",
     "text": [
      "Balise de titre de série non trouvée sur la page.\n"
     ]
    }
   ],
   "source": [
    "pokemon_set_df = set_name_scrap(pokemon_set_name_list)"
   ]
  },
  {
   "cell_type": "code",
   "execution_count": 53,
   "metadata": {},
   "outputs": [
    {
     "data": {
      "text/html": [
       "<div>\n",
       "<style scoped>\n",
       "    .dataframe tbody tr th:only-of-type {\n",
       "        vertical-align: middle;\n",
       "    }\n",
       "\n",
       "    .dataframe tbody tr th {\n",
       "        vertical-align: top;\n",
       "    }\n",
       "\n",
       "    .dataframe thead th {\n",
       "        text-align: right;\n",
       "    }\n",
       "</style>\n",
       "<table border=\"1\" class=\"dataframe\">\n",
       "  <thead>\n",
       "    <tr style=\"text-align: right;\">\n",
       "      <th></th>\n",
       "      <th>set_name</th>\n",
       "      <th>card_title</th>\n",
       "      <th>release_date</th>\n",
       "      <th>cards_count</th>\n",
       "    </tr>\n",
       "  </thead>\n",
       "  <tbody>\n",
       "    <tr>\n",
       "      <th>0</th>\n",
       "      <td>Destinées de Paldea</td>\n",
       "      <td>pomdepik 1 91</td>\n",
       "      <td>26/01/2024</td>\n",
       "      <td>245</td>\n",
       "    </tr>\n",
       "    <tr>\n",
       "      <th>1</th>\n",
       "      <td>Destinées de Paldea</td>\n",
       "      <td>foretress ex 2 91</td>\n",
       "      <td>26/01/2024</td>\n",
       "      <td>245</td>\n",
       "    </tr>\n",
       "    <tr>\n",
       "      <th>2</th>\n",
       "      <td>Destinées de Paldea</td>\n",
       "      <td>maracachi 3 91</td>\n",
       "      <td>26/01/2024</td>\n",
       "      <td>245</td>\n",
       "    </tr>\n",
       "    <tr>\n",
       "      <th>3</th>\n",
       "      <td>Destinées de Paldea</td>\n",
       "      <td>terracool 4 91</td>\n",
       "      <td>26/01/2024</td>\n",
       "      <td>245</td>\n",
       "    </tr>\n",
       "    <tr>\n",
       "      <th>4</th>\n",
       "      <td>Destinées de Paldea</td>\n",
       "      <td>terracruel ex 5 91</td>\n",
       "      <td>26/01/2024</td>\n",
       "      <td>245</td>\n",
       "    </tr>\n",
       "    <tr>\n",
       "      <th>...</th>\n",
       "      <td>...</td>\n",
       "      <td>...</td>\n",
       "      <td>...</td>\n",
       "      <td>...</td>\n",
       "    </tr>\n",
       "    <tr>\n",
       "      <th>4610</th>\n",
       "      <td>Épée et Bouclier</td>\n",
       "      <td>zamazenta v 212 202</td>\n",
       "      <td>07/02/2020</td>\n",
       "      <td>216</td>\n",
       "    </tr>\n",
       "    <tr>\n",
       "      <th>4611</th>\n",
       "      <td>Épée et Bouclier</td>\n",
       "      <td>ballon 213 202</td>\n",
       "      <td>07/02/2020</td>\n",
       "      <td>216</td>\n",
       "    </tr>\n",
       "    <tr>\n",
       "      <th>4612</th>\n",
       "      <td>Épée et Bouclier</td>\n",
       "      <td>ecusson metal 214 202</td>\n",
       "      <td>07/02/2020</td>\n",
       "      <td>216</td>\n",
       "    </tr>\n",
       "    <tr>\n",
       "      <th>4613</th>\n",
       "      <td>Épée et Bouclier</td>\n",
       "      <td>canne ordinaire 215 202</td>\n",
       "      <td>07/02/2020</td>\n",
       "      <td>216</td>\n",
       "    </tr>\n",
       "    <tr>\n",
       "      <th>4614</th>\n",
       "      <td>Épée et Bouclier</td>\n",
       "      <td>rapide ball 216 202</td>\n",
       "      <td>07/02/2020</td>\n",
       "      <td>216</td>\n",
       "    </tr>\n",
       "  </tbody>\n",
       "</table>\n",
       "<p>4615 rows × 4 columns</p>\n",
       "</div>"
      ],
      "text/plain": [
       "                 set_name               card_title release_date cards_count\n",
       "0     Destinées de Paldea            pomdepik 1 91   26/01/2024         245\n",
       "1     Destinées de Paldea        foretress ex 2 91   26/01/2024         245\n",
       "2     Destinées de Paldea           maracachi 3 91   26/01/2024         245\n",
       "3     Destinées de Paldea           terracool 4 91   26/01/2024         245\n",
       "4     Destinées de Paldea       terracruel ex 5 91   26/01/2024         245\n",
       "...                   ...                      ...          ...         ...\n",
       "4610     Épée et Bouclier      zamazenta v 212 202   07/02/2020         216\n",
       "4611     Épée et Bouclier           ballon 213 202   07/02/2020         216\n",
       "4612     Épée et Bouclier    ecusson metal 214 202   07/02/2020         216\n",
       "4613     Épée et Bouclier  canne ordinaire 215 202   07/02/2020         216\n",
       "4614     Épée et Bouclier      rapide ball 216 202   07/02/2020         216\n",
       "\n",
       "[4615 rows x 4 columns]"
      ]
     },
     "execution_count": 53,
     "metadata": {},
     "output_type": "execute_result"
    }
   ],
   "source": [
    "pokemon_set_df"
   ]
  },
  {
   "cell_type": "markdown",
   "metadata": {},
   "source": [
    "# Récupération du nom des Blocs ( Ecarlate et Violet, Epée et Bouclier, etc...)"
   ]
  },
  {
   "cell_type": "code",
   "execution_count": null,
   "metadata": {},
   "outputs": [],
   "source": [
    "def get_bloc_name_data():\n",
    "    soup_list = []\n",
    "\n",
    "    \n",
    "    url = f'https://www.pokecardex.com/series/'\n",
    "        \n",
    "    # Récupérer le contenu de la page\n",
    "    r = requests.get(url)\n",
    "    if r.status_code == 200:\n",
    "        soup = BeautifulSoup(r.text, 'html.parser')\n",
    "        soup_list.append(soup)\n",
    "    else:\n",
    "        print(f\"La requête pour {set_name} a échoué avec le code d'état {r.status_code}\")\n",
    "\n",
    "    return soup_list"
   ]
  },
  {
   "cell_type": "code",
   "execution_count": null,
   "metadata": {},
   "outputs": [],
   "source": [
    "def bloc_name_parse(soup_list):\n",
    "    bloc_names_list = []\n",
    "    for soup in soup_list:\n",
    "        \n",
    "        bloc_name_tags = soup.find_all('p', class_='p-0 m-0')\n",
    "        for bloc_tag in bloc_name_tags:\n",
    "            bloc_name = bloc_tag.text.strip()\n",
    "            bloc_names_list.append(bloc_name)\n",
    "    return bloc_names_list"
   ]
  },
  {
   "cell_type": "code",
   "execution_count": null,
   "metadata": {},
   "outputs": [],
   "source": [
    "def bloc_name_list():\n",
    "    bloc_soup_list = get_bloc_name_data()\n",
    "    bloc_name_list = bloc_name_parse(bloc_soup_list)\n",
    "    \n",
    "    '''# Liste pour stocker les noms de blocs modifiés\n",
    "    modified_bloc_name_list = []\n",
    "    \n",
    "    for bloc_name in bloc_name_list:\n",
    "        # Convertir en minuscules et enlever les accents\n",
    "        modified_bloc_name = unidecode(bloc_name.lower())\n",
    "        modified_bloc_name_list.append(modified_bloc_name)\n",
    "    \n",
    "    modified_bloc_name_list = modified_bloc_name_list[:2]'''\n",
    "        \n",
    "    return bloc_name_list[:2]"
   ]
  },
  {
   "cell_type": "code",
   "execution_count": null,
   "metadata": {},
   "outputs": [],
   "source": [
    "bloc_name_list = bloc_name_list()"
   ]
  },
  {
   "cell_type": "code",
   "execution_count": null,
   "metadata": {},
   "outputs": [
    {
     "data": {
      "text/plain": [
       "['Écarlate et Violet', 'Épée et Bouclier']"
      ]
     },
     "execution_count": 16,
     "metadata": {},
     "output_type": "execute_result"
    }
   ],
   "source": [
    "bloc_name_list "
   ]
  },
  {
   "cell_type": "markdown",
   "metadata": {},
   "source": [
    "# Assignation du nom du bloc aux séries correspondantes"
   ]
  },
  {
   "cell_type": "code",
   "execution_count": null,
   "metadata": {},
   "outputs": [],
   "source": [
    "set_name_list = pokemon_set_df['set_name'].unique()"
   ]
  },
  {
   "cell_type": "markdown",
   "metadata": {},
   "source": [
    "### Création de listes distincetes en fonction des séries"
   ]
  },
  {
   "cell_type": "code",
   "execution_count": null,
   "metadata": {},
   "outputs": [],
   "source": [
    "SV_set_name_list = set_name_list[:6]\n",
    "EB_set_name_list = set_name_list[6:]"
   ]
  },
  {
   "cell_type": "code",
   "execution_count": null,
   "metadata": {},
   "outputs": [
    {
     "data": {
      "text/plain": [
       "array(['Destinées de Paldea', 'Faille Paradoxe', '151',\n",
       "       'Flammes Obsidiennes', 'Évolutions à Paldea', 'Écarlate et Violet'],\n",
       "      dtype=object)"
      ]
     },
     "execution_count": 19,
     "metadata": {},
     "output_type": "execute_result"
    }
   ],
   "source": [
    "SV_set_name_list"
   ]
  },
  {
   "cell_type": "code",
   "execution_count": null,
   "metadata": {},
   "outputs": [
    {
     "data": {
      "text/plain": [
       "array(['Zénith Suprême', 'Tempête Argentée', 'Origine Perdue',\n",
       "       'Pokémon GO', 'Astres Radieux', 'Stars Étincelantes',\n",
       "       'Poing de Fusion', 'Célébrations', 'Évolution Céleste',\n",
       "       'Styles de Combat', 'Destinées Radieuses', 'Voltage Éclatant',\n",
       "       'La Voie du Maître', 'Ténèbres Embrasées', 'Clash des Rebelles',\n",
       "       'Épée et Bouclier'], dtype=object)"
      ]
     },
     "execution_count": 20,
     "metadata": {},
     "output_type": "execute_result"
    }
   ],
   "source": [
    "EB_set_name_list"
   ]
  },
  {
   "cell_type": "markdown",
   "metadata": {},
   "source": [
    "### Attribution du bloc correspondant aux séries"
   ]
  },
  {
   "cell_type": "code",
   "execution_count": null,
   "metadata": {},
   "outputs": [],
   "source": [
    "for sv_set_name in SV_set_name_list:\n",
    "    \n",
    "    filtered_rows = pokemon_set_df['set_name'] == sv_set_name\n",
    "    \n",
    "    pokemon_set_df.loc[filtered_rows, 'bloc_name'] = bloc_name_list[0]"
   ]
  },
  {
   "cell_type": "code",
   "execution_count": null,
   "metadata": {},
   "outputs": [],
   "source": [
    "for eb_set_name in EB_set_name_list:\n",
    "    \n",
    "    filtered_rows = pokemon_set_df['set_name'] == eb_set_name\n",
    "    \n",
    "    pokemon_set_df.loc[filtered_rows, 'bloc_name'] = bloc_name_list[1]"
   ]
  },
  {
   "cell_type": "code",
   "execution_count": null,
   "metadata": {},
   "outputs": [],
   "source": [
    "pokemon_set_df.to_csv(r\"pokemon_set.csv\",index=False)"
   ]
  },
  {
   "cell_type": "code",
   "execution_count": null,
   "metadata": {},
   "outputs": [
    {
     "data": {
      "text/html": [
       "<div>\n",
       "<style scoped>\n",
       "    .dataframe tbody tr th:only-of-type {\n",
       "        vertical-align: middle;\n",
       "    }\n",
       "\n",
       "    .dataframe tbody tr th {\n",
       "        vertical-align: top;\n",
       "    }\n",
       "\n",
       "    .dataframe thead th {\n",
       "        text-align: right;\n",
       "    }\n",
       "</style>\n",
       "<table border=\"1\" class=\"dataframe\">\n",
       "  <thead>\n",
       "    <tr style=\"text-align: right;\">\n",
       "      <th></th>\n",
       "      <th>set_name</th>\n",
       "      <th>card_title</th>\n",
       "      <th>release_date</th>\n",
       "      <th>cards_count</th>\n",
       "      <th>bloc_name</th>\n",
       "    </tr>\n",
       "  </thead>\n",
       "  <tbody>\n",
       "    <tr>\n",
       "      <th>0</th>\n",
       "      <td>Destinées de Paldea</td>\n",
       "      <td>pomdepik 1 91</td>\n",
       "      <td></td>\n",
       "      <td>245 cartes (154 secrètes)</td>\n",
       "      <td>Écarlate et Violet</td>\n",
       "    </tr>\n",
       "    <tr>\n",
       "      <th>1</th>\n",
       "      <td>Destinées de Paldea</td>\n",
       "      <td>foretress ex 2 91</td>\n",
       "      <td></td>\n",
       "      <td>245 cartes (154 secrètes)</td>\n",
       "      <td>Écarlate et Violet</td>\n",
       "    </tr>\n",
       "    <tr>\n",
       "      <th>2</th>\n",
       "      <td>Destinées de Paldea</td>\n",
       "      <td>maracachi 3 91</td>\n",
       "      <td></td>\n",
       "      <td>245 cartes (154 secrètes)</td>\n",
       "      <td>Écarlate et Violet</td>\n",
       "    </tr>\n",
       "    <tr>\n",
       "      <th>3</th>\n",
       "      <td>Destinées de Paldea</td>\n",
       "      <td>terracool 4 91</td>\n",
       "      <td></td>\n",
       "      <td>245 cartes (154 secrètes)</td>\n",
       "      <td>Écarlate et Violet</td>\n",
       "    </tr>\n",
       "    <tr>\n",
       "      <th>4</th>\n",
       "      <td>Destinées de Paldea</td>\n",
       "      <td>terracruel ex 5 91</td>\n",
       "      <td></td>\n",
       "      <td>245 cartes (154 secrètes)</td>\n",
       "      <td>Écarlate et Violet</td>\n",
       "    </tr>\n",
       "    <tr>\n",
       "      <th>...</th>\n",
       "      <td>...</td>\n",
       "      <td>...</td>\n",
       "      <td>...</td>\n",
       "      <td>...</td>\n",
       "      <td>...</td>\n",
       "    </tr>\n",
       "    <tr>\n",
       "      <th>4610</th>\n",
       "      <td>Épée et Bouclier</td>\n",
       "      <td>zamazenta v 212 202</td>\n",
       "      <td></td>\n",
       "      <td>216 cartes (14 secrètes)</td>\n",
       "      <td>Épée et Bouclier</td>\n",
       "    </tr>\n",
       "    <tr>\n",
       "      <th>4611</th>\n",
       "      <td>Épée et Bouclier</td>\n",
       "      <td>ballon 213 202</td>\n",
       "      <td></td>\n",
       "      <td>216 cartes (14 secrètes)</td>\n",
       "      <td>Épée et Bouclier</td>\n",
       "    </tr>\n",
       "    <tr>\n",
       "      <th>4612</th>\n",
       "      <td>Épée et Bouclier</td>\n",
       "      <td>ecusson metal 214 202</td>\n",
       "      <td></td>\n",
       "      <td>216 cartes (14 secrètes)</td>\n",
       "      <td>Épée et Bouclier</td>\n",
       "    </tr>\n",
       "    <tr>\n",
       "      <th>4613</th>\n",
       "      <td>Épée et Bouclier</td>\n",
       "      <td>canne ordinaire 215 202</td>\n",
       "      <td></td>\n",
       "      <td>216 cartes (14 secrètes)</td>\n",
       "      <td>Épée et Bouclier</td>\n",
       "    </tr>\n",
       "    <tr>\n",
       "      <th>4614</th>\n",
       "      <td>Épée et Bouclier</td>\n",
       "      <td>rapide ball 216 202</td>\n",
       "      <td></td>\n",
       "      <td>216 cartes (14 secrètes)</td>\n",
       "      <td>Épée et Bouclier</td>\n",
       "    </tr>\n",
       "  </tbody>\n",
       "</table>\n",
       "<p>4615 rows × 5 columns</p>\n",
       "</div>"
      ],
      "text/plain": [
       "                 set_name               card_title release_date  \\\n",
       "0     Destinées de Paldea            pomdepik 1 91                \n",
       "1     Destinées de Paldea        foretress ex 2 91                \n",
       "2     Destinées de Paldea           maracachi 3 91                \n",
       "3     Destinées de Paldea           terracool 4 91                \n",
       "4     Destinées de Paldea       terracruel ex 5 91                \n",
       "...                   ...                      ...          ...   \n",
       "4610     Épée et Bouclier      zamazenta v 212 202                \n",
       "4611     Épée et Bouclier           ballon 213 202                \n",
       "4612     Épée et Bouclier    ecusson metal 214 202                \n",
       "4613     Épée et Bouclier  canne ordinaire 215 202                \n",
       "4614     Épée et Bouclier      rapide ball 216 202                \n",
       "\n",
       "                    cards_count           bloc_name  \n",
       "0     245 cartes (154 secrètes)  Écarlate et Violet  \n",
       "1     245 cartes (154 secrètes)  Écarlate et Violet  \n",
       "2     245 cartes (154 secrètes)  Écarlate et Violet  \n",
       "3     245 cartes (154 secrètes)  Écarlate et Violet  \n",
       "4     245 cartes (154 secrètes)  Écarlate et Violet  \n",
       "...                         ...                 ...  \n",
       "4610   216 cartes (14 secrètes)    Épée et Bouclier  \n",
       "4611   216 cartes (14 secrètes)    Épée et Bouclier  \n",
       "4612   216 cartes (14 secrètes)    Épée et Bouclier  \n",
       "4613   216 cartes (14 secrètes)    Épée et Bouclier  \n",
       "4614   216 cartes (14 secrètes)    Épée et Bouclier  \n",
       "\n",
       "[4615 rows x 5 columns]"
      ]
     },
     "execution_count": 24,
     "metadata": {},
     "output_type": "execute_result"
    }
   ],
   "source": [
    "pokemon_set_df"
   ]
  },
  {
   "cell_type": "markdown",
   "metadata": {},
   "source": [
    "# Traitement du nom des cartes "
   ]
  },
  {
   "cell_type": "markdown",
   "metadata": {},
   "source": [
    " Pour obtenir une véracité accrue des données lors du traitement des données, \n",
    " les noms des pokémons doivent être le plus précis possible et aussi suivre les conventions de noms que l'on retrouve sur ebay"
   ]
  },
  {
   "cell_type": "markdown",
   "metadata": {},
   "source": [
    "## Exemple\n",
    "\n",
    "Dans pokemon_set_df, si on prend la carte :\n",
    "* **\"lulugabre tg04\"**\n",
    "\n",
    "il serait **plus approprié**, pour **améliorer** la **véracité** des **données sélectionnées**, d'avoir un nom comme:\n",
    "* **\"lulugabre tg04 tg30\"** \n",
    "\n",
    "En effet ce dernier respecte les **\"conventions\" d'écriture** des vendeurs ebay français.\n",
    "\n",
    "## Exemple de conventions d'écriture\n",
    "\n",
    "* **Carte Pokémon Lugulabre TG04/TG30 Origine Perdue EB11 FR NEUF**\n",
    "\n",
    "#### Ici on peut voir différents mots clefs\n",
    "*  **\"carte** : en français\n",
    "\n",
    "* **\"lugulabre\"** : le nom de pokémon\n",
    "\n",
    "* **\"tg04/tg30\"** : le numéro de la carte dans la série\n",
    "\n",
    "* **\"Origine Perdue\"** : le nom de la série \n",
    "\n",
    "* **\"EB11\"** : le nom de la série en abrégé\n",
    "\n",
    "* **\"FR\"** : mot clef très utile pour identifier les cartes françaises\n",
    "\n",
    "* **\"NEUF\"** : mot clefs pour désigner l'état de la carte *non utilisé pour l'instant mais permettrait de classer les cartes scrappées avec plus de précisions.* "
   ]
  },
  {
   "cell_type": "markdown",
   "metadata": {},
   "source": [
    "## Code pour formatter le nom des cartes"
   ]
  },
  {
   "cell_type": "code",
   "execution_count": null,
   "metadata": {},
   "outputs": [],
   "source": [
    "# Fonction pour formatter le nom des cartes tg (trainer gallery)\n",
    "def update_card_title_w_tg(df):\n",
    "    # Créer un dictionnaire pour stocker le nombre de cartes tg par série\n",
    "    tg_count = {}\n",
    "    # Parcourir les lignes du DataFrame\n",
    "    for index, row in df.iterrows():\n",
    "        # Vérifier si le nom de la carte contient \"tg\"\n",
    "        if \"tg\" in row['card_title']:\n",
    "            # Extraire le numéro de la carte tg\n",
    "            tg_num = int(row['card_title'].split()[-1][2:])\n",
    "            # Mettre à jour le nombre total de cartes tg dans cette série\n",
    "            tg_count.setdefault(row['set_name'], 0)\n",
    "            tg_count[row['set_name']] = max(tg_count[row['set_name']], tg_num)\n",
    "    # Parcourir à nouveau les lignes pour mettre à jour les noms des cartes\n",
    "    for index, row in df.iterrows():\n",
    "        # Vérifier si le nom de la carte contient \"tg\"\n",
    "        if \"tg\" in row['card_title']:\n",
    "            # Extraire le numéro de la carte tg\n",
    "            tg_num = int(row['card_title'].split()[-1][2:])\n",
    "            # Mettre à jour le nom de la carte en ajoutant le rapport\n",
    "            df.at[index, 'card_title'] += f\" tg{tg_count[row['set_name']]}\"\n",
    "    return df"
   ]
  },
  {
   "cell_type": "code",
   "execution_count": null,
   "metadata": {},
   "outputs": [],
   "source": [
    "def update_card_title_w_gg(df):\n",
    "    # Créer un dictionnaire pour stocker le nombre de cartes gg par série\n",
    "    gg_count = {}\n",
    "    \n",
    "    # Parcourir les lignes du DataFrame\n",
    "    for index, row in df.iterrows():\n",
    "        # Vérifier si le nom de la carte contient \"gg\" et exclure les exceptions\n",
    "        if \"gg\" in row['card_title'] and row['card_title'] != \"baggiguane 98 203\" and row['card_title'] != \"baggaid 99 203\":\n",
    "            # Extraire le numéro de la carte gg\n",
    "            gg_num_str = row['card_title'].split()[-1][2:]\n",
    "            \n",
    "            # Vérifier si la chaîne extraite est non vide\n",
    "            if gg_num_str:\n",
    "                gg_num = int(gg_num_str)\n",
    "                \n",
    "                # Mettre à jour le nombre total de cartes gg dans cette série\n",
    "                gg_count.setdefault(row['set_name'], 0)\n",
    "                gg_count[row['set_name']] = max(gg_count[row['set_name']], gg_num)\n",
    "    \n",
    "    # Parcourir à nouveau les lignes pour mettre à jour les noms des cartes\n",
    "    for index, row in df.iterrows():\n",
    "        # Vérifier si le nom de la carte contient \"gg\" et exclure les exceptions\n",
    "        if \"gg\" in row['card_title'] and row['card_title'] != \"baggiguane 98 203\" and row['card_title'] != \"baggaid 99 203\":\n",
    "            # Extraire le numéro de la carte gg\n",
    "            gg_num_str = row['card_title'].split()[-1][2:]\n",
    "            \n",
    "            # Vérifier si la chaîne extraite est non vide\n",
    "            if gg_num_str:\n",
    "                gg_num = int(gg_num_str)\n",
    "                \n",
    "                # Mettre à jour le nom de la carte en ajoutant le rapport\n",
    "                df.at[index, 'card_title'] += f\" gg{gg_count[row['set_name']]}\"\n",
    "    \n",
    "    return df"
   ]
  },
  {
   "cell_type": "code",
   "execution_count": null,
   "metadata": {},
   "outputs": [],
   "source": [
    "def update_card_title_w_sv(df):\n",
    "    # Créer un dictionnaire pour stocker le nombre de cartes sv par série\n",
    "    sv_count = {}\n",
    "    \n",
    "    # Parcourir les lignes du DataFrame\n",
    "    for index, row in df.iterrows():\n",
    "        # Vérifier si le nom de la carte contient \"sv\"\n",
    "        if \"sv\" in row['card_title']:\n",
    "            # Extraire le numéro de la carte sv\n",
    "            sv_num = int(row['card_title'].split()[-1][2:])\n",
    "            # Mettre à jour le nombre total de cartes sv dans cette série\n",
    "            sv_count.setdefault(row['set_name'], 0)\n",
    "            sv_count[row['set_name']] = max(sv_count[row['set_name']], sv_num)\n",
    "    \n",
    "    # Parcourir à nouveau les lignes pour mettre à jour les noms des cartes\n",
    "    for index, row in df.iterrows():\n",
    "        # Vérifier si le nom de la carte contient \"sv\"\n",
    "        if \"sv\" in row['card_title']:\n",
    "            # Extraire le numéro de la carte sv\n",
    "            sv_num = int(row['card_title'].split()[-1][2:])\n",
    "            # Mettre à jour le nom de la carte en ajoutant le rapport\n",
    "            df.at[index, 'card_title'] += f\" sv{sv_count[row['set_name']]}\"\n",
    "    \n",
    "    return df"
   ]
  },
  {
   "cell_type": "code",
   "execution_count": null,
   "metadata": {},
   "outputs": [],
   "source": [
    "pokemon_set_df = pokemon_set_df.groupby('set_name').apply(update_card_title_w_tg).reset_index(drop=True)"
   ]
  },
  {
   "cell_type": "code",
   "execution_count": null,
   "metadata": {},
   "outputs": [],
   "source": [
    "pokemon_set_df = pokemon_set_df.groupby('set_name').apply(update_card_title_w_gg).reset_index(drop=True)"
   ]
  },
  {
   "cell_type": "code",
   "execution_count": null,
   "metadata": {},
   "outputs": [],
   "source": [
    "pokemon_set_df = pokemon_set_df.groupby('set_name').apply(update_card_title_w_sv).reset_index(drop=True)"
   ]
  },
  {
   "cell_type": "markdown",
   "metadata": {},
   "source": [
    "#### Problème avec laggron 64 264 gg4 donc on agit directement sur la ligne concernée"
   ]
  },
  {
   "cell_type": "code",
   "execution_count": null,
   "metadata": {},
   "outputs": [],
   "source": [
    "pokemon_set_df['card_title'].replace('laggron 64 264 gg4', 'laggron 64 264', inplace=True)\n"
   ]
  },
  {
   "cell_type": "markdown",
   "metadata": {},
   "source": [
    "### Renommage colonne 'card_title' en 'card_name'"
   ]
  },
  {
   "cell_type": "code",
   "execution_count": null,
   "metadata": {},
   "outputs": [],
   "source": [
    "pokemon_set_df.rename(columns={'card_title': 'card_name'}, inplace=True)"
   ]
  },
  {
   "cell_type": "markdown",
   "metadata": {},
   "source": [
    "# Exportation du dataframe au format .csv"
   ]
  },
  {
   "cell_type": "code",
   "execution_count": null,
   "metadata": {},
   "outputs": [],
   "source": [
    "pokemon_set_df.to_csv(\"pokemon_set_formatted.csv\",index=False)"
   ]
  }
 ],
 "metadata": {
  "kernelspec": {
   "display_name": "Python 3",
   "language": "python",
   "name": "python3"
  },
  "language_info": {
   "codemirror_mode": {
    "name": "ipython",
    "version": 3
   },
   "file_extension": ".py",
   "mimetype": "text/x-python",
   "name": "python",
   "nbconvert_exporter": "python",
   "pygments_lexer": "ipython3",
   "version": "3.11.4"
  }
 },
 "nbformat": 4,
 "nbformat_minor": 2
}
